{
 "cells": [
  {
   "cell_type": "code",
   "execution_count": 3,
   "metadata": {},
   "outputs": [],
   "source": [
    "import os\n",
    "import glob"
   ]
  },
  {
   "cell_type": "code",
   "execution_count": 4,
   "metadata": {},
   "outputs": [],
   "source": [
    "BASE_DIR = \"/home/sliu/Desktop/Development/pytorch-dynamic-tsn/\"\n",
    "SPLITS_DIR = os.path.join(BASE_DIR, \"data/splits/\")\n",
    "AGG_DATA_DIR = os.path.join(BASE_DIR, \"data/preprocessed/AGG01/\")"
   ]
  },
  {
   "cell_type": "code",
   "execution_count": 5,
   "metadata": {},
   "outputs": [],
   "source": [
    "class_folders = filter(os.path.isdir, glob.glob(AGG_DATA_DIR + '/*'))\n",
    "\n",
    "metadata = {}\n",
    "listpaths = []\n",
    "listlabels = []\n",
    "for label, class_folder in enumerate(class_folders):\n",
    "    metadata[label] = os.path.basename(class_folder)\n",
    "    files = glob.glob(class_folder + '/*')\n",
    "    labels = [label] * len(files)\n",
    "    listpaths.extend(files)\n",
    "    listlabels.extend(labels)"
   ]
  },
  {
   "cell_type": "code",
   "execution_count": 67,
   "metadata": {},
   "outputs": [
    {
     "name": "stdout",
     "output_type": "stream",
     "text": [
      "Collecting sklearn\n",
      "  Downloading https://files.pythonhosted.org/packages/1e/7a/dbb3be0ce9bd5c8b7e3d87328e79063f8b263b2b1bfa4774cb1147bfcd3f/sklearn-0.0.tar.gz\n",
      "Collecting scikit-learn (from sklearn)\n",
      "  Using cached https://files.pythonhosted.org/packages/85/04/49633f490f726da6e454fddc8e938bbb5bfed2001681118d3814c219b723/scikit_learn-0.21.2-cp36-cp36m-manylinux1_x86_64.whl\n",
      "Collecting numpy>=1.11.0 (from scikit-learn->sklearn)\n",
      "  Using cached https://files.pythonhosted.org/packages/87/2d/e4656149cbadd3a8a0369fcd1a9c7d61cc7b87b3903b85389c70c989a696/numpy-1.16.4-cp36-cp36m-manylinux1_x86_64.whl\n",
      "Collecting scipy>=0.17.0 (from scikit-learn->sklearn)\n",
      "  Using cached https://files.pythonhosted.org/packages/72/4c/5f81e7264b0a7a8bd570810f48cd346ba36faedbd2ba255c873ad556de76/scipy-1.3.0-cp36-cp36m-manylinux1_x86_64.whl\n",
      "Collecting joblib>=0.11 (from scikit-learn->sklearn)\n",
      "  Using cached https://files.pythonhosted.org/packages/cd/c1/50a758e8247561e58cb87305b1e90b171b8c767b15b12a1734001f41d356/joblib-0.13.2-py2.py3-none-any.whl\n",
      "Building wheels for collected packages: sklearn\n",
      "  Running setup.py bdist_wheel for sklearn ... \u001b[?25ldone\n",
      "\u001b[?25h  Stored in directory: /home/sliu/.cache/pip/wheels/76/03/bb/589d421d27431bcd2c6da284d5f2286c8e3b2ea3cf1594c074\n",
      "Successfully built sklearn\n",
      "Installing collected packages: numpy, scipy, joblib, scikit-learn, sklearn\n",
      "Successfully installed joblib-0.13.2 numpy-1.16.4 scikit-learn-0.21.2 scipy-1.3.0 sklearn-0.0\n"
     ]
    }
   ],
   "source": [
    "!pip3 install sklearn"
   ]
  },
  {
   "cell_type": "code",
   "execution_count": 6,
   "metadata": {},
   "outputs": [
    {
     "data": {
      "text/plain": [
       "((23720,), (23720,))"
      ]
     },
     "execution_count": 6,
     "metadata": {},
     "output_type": "execute_result"
    }
   ],
   "source": [
    "import numpy as np\n",
    "listpaths = np.array(listpaths)\n",
    "listlabels = np.array(listlabels)\n",
    "\n",
    "listpaths.shape, listlabels.shape"
   ]
  },
  {
   "cell_type": "code",
   "execution_count": 8,
   "metadata": {},
   "outputs": [],
   "source": [
    "from sklearn.model_selection import StratifiedShuffleSplit\n",
    "\n",
    "def _train_test_path_labels(all_paths, all_labels, test_size=0.1, random_state=42):\n",
    "    sss = StratifiedShuffleSplit(n_splits=1, test_size=test_size)\n",
    "    train_idx, test_idx = next(iter(sss.split(all_paths, all_labels)))\n",
    "    return all_paths[train_idx], all_paths[test_idx], all_labels[train_idx], all_labels[test_idx] \n",
    "\n",
    "def _skf_path_labels(all_paths, all_labels, outdir, out_prefix=\"\", n_splits=5):\n",
    "    # stratify dataset\n",
    "    skf = StratifiedShuffleSplit(n_splits=n_splits, test_size=0.2)\n",
    "    for i, (train_idx, test_idx) in enumerate(skf.split(all_paths, all_labels)):\n",
    "        X_train = all_paths[train_idx] # X_train is list of train data path \n",
    "        y_train = all_labels[train_idx] # y_train is list of label values\n",
    "\n",
    "        # path for text of train path list\n",
    "        train_prefix = \"{}_train_split_{}.txt\".format(out_prefix, i)\n",
    "        train_filepath = os.path.join(outdir, train_prefix) \n",
    "\n",
    "        with open(train_filepath, 'w') as fp:\n",
    "            for filepath, label in zip(X_train, y_train):\n",
    "                fp.write(\"{} {}\\n\".format(filepath, label))\n",
    "        \n",
    "        X_test = all_paths[test_idx] # X_test is list of train data path\n",
    "        y_test = all_labels[test_idx] # y_test is list of train data path\n",
    "\n",
    "        # path for text of test path list\n",
    "        test_prefix = \"{}_val_split_{}.txt\".format(out_prefix, i)\n",
    "        test_filepath = os.path.join(outdir, test_prefix) \n",
    "\n",
    "        with open(test_filepath, 'w') as fp:\n",
    "            for filepath, label in zip(X_test, y_test):\n",
    "                fp.write(\"{} {}\\n\".format(filepath, label))"
   ]
  },
  {
   "cell_type": "code",
   "execution_count": 10,
   "metadata": {},
   "outputs": [],
   "source": [
    "path_X_train, path_X_test, y_train, y_test = _train_test_path_labels(listpaths, listlabels)"
   ]
  },
  {
   "cell_type": "code",
   "execution_count": 18,
   "metadata": {},
   "outputs": [],
   "source": [
    "_skf_path_labels(path_X_train, y_train, SPLITS_DIR, out_prefix=\"aggresion\")"
   ]
  },
  {
   "cell_type": "code",
   "execution_count": 20,
   "metadata": {},
   "outputs": [],
   "source": [
    "test_filename = \"aggression_test_split_0.txt\"\n",
    "test_filepath = os.path.join(SPLITS_DIR, test_filename)\n",
    "\n",
    "with open(test_filepath, 'w') as fp:\n",
    "    for filepath, label in zip(path_X_train, y_test):\n",
    "        fp.write(\"{} {}\\n\".format(filepath, label))"
   ]
  },
  {
   "cell_type": "code",
   "execution_count": 17,
   "metadata": {},
   "outputs": [
    {
     "data": {
      "text/plain": [
       "0"
      ]
     },
     "execution_count": 17,
     "metadata": {},
     "output_type": "execute_result"
    }
   ],
   "source": []
  },
  {
   "cell_type": "code",
   "execution_count": null,
   "metadata": {},
   "outputs": [],
   "source": []
  }
 ],
 "metadata": {
  "kernelspec": {
   "display_name": "Python 3",
   "language": "python",
   "name": "python3"
  },
  "language_info": {
   "codemirror_mode": {
    "name": "ipython",
    "version": 3
   },
   "file_extension": ".py",
   "mimetype": "text/x-python",
   "name": "python",
   "nbconvert_exporter": "python",
   "pygments_lexer": "ipython3",
   "version": "3.6.8"
  }
 },
 "nbformat": 4,
 "nbformat_minor": 2
}
